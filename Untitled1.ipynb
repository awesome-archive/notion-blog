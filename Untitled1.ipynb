{
 "cells": [
  {
   "cell_type": "code",
   "execution_count": 9,
   "metadata": {},
   "outputs": [
    {
     "name": "stdout",
     "output_type": "stream",
     "text": [
      "('download_vid', <http.client.HTTPMessage object at 0x10a0cd640>)\n"
     ]
    }
   ],
   "source": [
    "# Video Download scripts\n",
    "import urllib.request\n",
    "def download_vid(url_link, vid_destination):\n",
    "\n",
    "    user_agent = 'Mozilla/5.0 (Windows NT 6.1; Win64; x64)'\n",
    "    headers = {'User-Agent': user_agent}\n",
    "\n",
    "    opener = urllib.request.build_opener()\n",
    "    opener.addheaders = [('User-agent', 'Mozilla/5.0')]\n",
    "    urllib.request.install_opener(opener)\n",
    "\n",
    "    get_vid = urllib.request.urlretrieve(url_link, vid_destination) \n",
    "    return get_vid\n",
    "\n",
    "url_link = \"https://cdn.fbsbx.com/v/t65.23977-21/102286368_690067241787178_2495384709169676288_n.mov?_nc_cat=101&_nc_sid=56eb5b&_nc_ohc=ydJeIjej-lAAX-vVgyP&_nc_ht=cdn.fbsbx.com&oh=4fe4571e80a952c239446f3d97489bae&oe=5F02FF01\"\n",
    "res = download_vid(url_link, \"download_vid\")\n",
    "print(res)"
   ]
  },
  {
   "cell_type": "code",
   "execution_count": 6,
   "metadata": {},
   "outputs": [
    {
     "name": "stdout",
     "output_type": "stream",
     "text": [
      "Help on function urlretrieve in module urllib.request:\n",
      "\n",
      "urlretrieve(url, filename=None, reporthook=None, data=None)\n",
      "    Retrieve a URL into a temporary location on disk.\n",
      "    \n",
      "    Requires a URL argument. If a filename is passed, it is used as\n",
      "    the temporary file location. The reporthook argument should be\n",
      "    a callable that accepts a block number, a read size, and the\n",
      "    total file size of the URL target. The data argument should be\n",
      "    valid URL encoded data.\n",
      "    \n",
      "    If a filename is passed and the URL points to a local resource,\n",
      "    the result is a copy from local file to new file.\n",
      "    \n",
      "    Returns a tuple containing the path to the newly created\n",
      "    data file as well as the resulting HTTPMessage object.\n",
      "\n"
     ]
    }
   ],
   "source": []
  },
  {
   "cell_type": "code",
   "execution_count": null,
   "metadata": {},
   "outputs": [],
   "source": []
  }
 ],
 "metadata": {
  "kernelspec": {
   "display_name": "Python 3",
   "language": "python",
   "name": "python3"
  },
  "language_info": {
   "codemirror_mode": {
    "name": "ipython",
    "version": 3
   },
   "file_extension": ".py",
   "mimetype": "text/x-python",
   "name": "python",
   "nbconvert_exporter": "python",
   "pygments_lexer": "ipython3",
   "version": "3.8.1"
  }
 },
 "nbformat": 4,
 "nbformat_minor": 4
}
