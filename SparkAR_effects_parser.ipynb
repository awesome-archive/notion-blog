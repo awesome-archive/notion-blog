{
 "cells": [
  {
   "cell_type": "code",
   "execution_count": 26,
   "metadata": {},
   "outputs": [
    {
     "name": "stdin",
     "output_type": "stream",
     "text": [
      "Please Log in, press ENTER to continue... \n"
     ]
    },
    {
     "data": {
      "text/plain": [
       "''"
      ]
     },
     "execution_count": 26,
     "metadata": {},
     "output_type": "execute_result"
    }
   ],
   "source": [
    "from selenium import webdriver\n",
    "from selenium.webdriver.common.keys import Keys\n",
    "from bs4 import BeautifulSoup as bs\n",
    "import time\n",
    "\n",
    "driver = webdriver.Firefox()\n",
    "driver.get('https://www.facebook.com/sparkarhub/effects/')\n",
    "input('Please Log in, press ENTER to continue...')"
   ]
  },
  {
   "cell_type": "code",
   "execution_count": 112,
   "metadata": {},
   "outputs": [],
   "source": [
    "# you have to scroll down to the end first. this page is weird and dynamic.\n",
    "effects_list=[]\n",
    "links = driver.find_elements_by_css_selector('a[href*=\"/sparkarhub/publish/effect/\"]')\n",
    "for link in links:\n",
    "    effects_list.append({\n",
    "        'name':link.text,\n",
    "        'link': link.get_attribute('href')\n",
    "    })\n",
    "# print(effects_name_list)\n",
    "# need to get from ajax response(api)\n",
    "# Effects list is https://www.facebook.com/sparkarhub/publish/effect/{{effect_id}}/"
   ]
  },
  {
   "cell_type": "code",
   "execution_count": 145,
   "metadata": {},
   "outputs": [],
   "source": [
    "for i in range(len(effects_list)):\n",
    "    driver.get(effects_list[i]['link'])\n",
    "    time.sleep(10)\n",
    "    driver.find_elements_by_xpath(\"//*[contains(text(), 'Details')]\")[0].click()\n",
    "    time.sleep(3)\n",
    "    #Get video\n",
    "    demo_video = driver.find_element_by_css_selector('video > source').get_attribute('src')\n",
    "    effects_list[i]['demo'] = demo_video\n",
    "    #Get avatar\n",
    "    avatar = driver.find_elements_by_css_selector('._8-sw')[0].get_attribute('src')\n",
    "    effects_list[i]['avatar'] = avatar"
   ]
  },
  {
   "cell_type": "code",
   "execution_count": 147,
   "metadata": {},
   "outputs": [
    {
     "data": {
      "text/plain": [
       "{'name': '8bit clouds',\n",
       " 'link': 'https://www.facebook.com/sparkarhub/publish/effect/3131689240223001/',\n",
       " 'demo': 'https://cdn.fbsbx.com/v/t65.23977-21/105893505_877061342783340_7230112254744392680_n.mov?_nc_cat=102&_nc_sid=56eb5b&_nc_ohc=ERvjtiF3Qg4AX_bP06v&_nc_ht=cdn.fbsbx.com&oh=698744b3bb251ea7b5044ec5dc567a4b&oe=5EFF250B',\n",
       " 'avatar': 'https://scontent.fkhh1-1.fna.fbcdn.net/v/t39.10260-6/105641735_2694731714097759_7086802541452147468_n.png?_nc_cat=103&_nc_sid=df6b83&_nc_ohc=aJczg4H6c3MAX-1iYH0&_nc_ht=scontent.fkhh1-1.fna&oh=37c663355fadc0fa8501dd1a13d82e60&oe=5F23EC37'}"
      ]
     },
     "execution_count": 147,
     "metadata": {},
     "output_type": "execute_result"
    }
   ],
   "source": [
    "effects_list[0]"
   ]
  },
  {
   "cell_type": "code",
   "execution_count": 158,
   "metadata": {},
   "outputs": [
    {
     "name": "stdout",
     "output_type": "stream",
     "text": [
      "<Response [201]> {\"name\":\"8bit clouds\",\"demo\":\"https://cdn.fbsbx.com/v/t65.23977-21/105893505_877061342783340_7230112254744392680_n.mov?_nc_cat=102&_nc_sid=56eb5b&_nc_ohc=ERvjtiF3Qg4AX_bP06v&_nc_ht=cdn.fbsbx.com&oh=698744b3bb251ea7b5044ec5dc567a4b&oe=5EFF250B\",\"link\":\"https://www.facebook.com/sparkarhub/publish/effect/3131689240223001/\",\"avatar\":\"https://scontent.fkhh1-1.fna.fbcdn.net/v/t39.10260-6/105641735_2694731714097759_7086802541452147468_n.png?_nc_cat=103&_nc_sid=df6b83&_nc_ohc=aJczg4H6c3MAX-1iYH0&_nc_ht=scontent.fkhh1-1.fna&oh=37c663355fadc0fa8501dd1a13d82e60&oe=5F23EC37\",\"slug\":\"gggggggg1\"}\n",
      "<Response [201]> {\"name\":\"端午安康\",\"demo\":\"https://cdn.fbsbx.com/v/t65.23977-21/106006027_274915166914081_2852625827409447690_n.mov?_nc_cat=110&_nc_sid=56eb5b&_nc_ohc=sNj41yKpKPAAX-9nCvg&_nc_ht=cdn.fbsbx.com&oh=51a2d213137c59622548a7715efd3899&oe=5EFF791F\",\"link\":\"https://www.facebook.com/sparkarhub/publish/effect/2648125422066334/\",\"avatar\":\"https://scontent.fkhh1-2.fna.fbcdn.net/v/t39.10260-6/106030141_1007125076368782_578831476355883116_n.png?_nc_cat=111&_nc_sid=df6b83&_nc_ohc=goG-ByLShToAX_ohSXj&_nc_ht=scontent.fkhh1-2.fna&oh=7fac1e6eefbc13843a385f3c547f17b7&oe=5F223C31\",\"slug\":\"gggggggg2\"}\n",
      "<Response [201]> {\"name\":\"Poop Hat\",\"demo\":\"https://cdn.fbsbx.com/v/t65.23977-21/105570518_635578977163593_3809141044659625463_n.mov?_nc_cat=110&_nc_sid=56eb5b&_nc_ohc=sfYe2wnXUJQAX-NBYSn&_nc_ht=cdn.fbsbx.com&oh=6f32ba97b5db762e92a7f4dfb9be8dcc&oe=5EFF32C0\",\"link\":\"https://www.facebook.com/sparkarhub/publish/effect/3339649326099588/\",\"avatar\":\"https://scontent.fkhh1-1.fna.fbcdn.net/v/t39.10260-6/105918489_590471668536013_898732822726448347_n.png?_nc_cat=102&_nc_sid=df6b83&_nc_ohc=kbEaAhGnYwgAX-WXfQf&_nc_ht=scontent.fkhh1-1.fna&oh=fe90fc76a601ab223a308c410057e30b&oe=5F22EF50\",\"slug\":\"gggggggg3\"}\n",
      "<Response [201]> {\"name\":\"Patsy's Thermal\",\"demo\":\"https://cdn.fbsbx.com/v/t65.23977-21/105555434_555091311779857_7346894046092697253_n.mov?_nc_cat=105&_nc_sid=56eb5b&_nc_ohc=JhKc4w58bLsAX9cJD72&_nc_ht=cdn.fbsbx.com&oh=911dead88127180b9d8b5ed754038038&oe=5EFEF37F\",\"link\":\"https://www.facebook.com/sparkarhub/publish/effect/736127143610948/\",\"avatar\":\"https://scontent.fkhh1-2.fna.fbcdn.net/v/t39.10260-6/104930190_3098253853561531_3540716877662011845_n.png?_nc_cat=107&_nc_sid=df6b83&_nc_ohc=wmI7_lLBwUMAX-qbL08&_nc_ht=scontent.fkhh1-2.fna&oh=91487d6f850f72a86d68805ad8388abd&oe=5F21D2EA\",\"slug\":\"gggggggg4\"}\n",
      "<Response [201]> {\"name\":\"Jack's Summer Vibe\",\"demo\":\"https://cdn.fbsbx.com/v/t65.23977-21/101692154_282151722909043_683759824315351040_n.mov?_nc_cat=108&_nc_sid=56eb5b&_nc_ohc=CmZlJejNLAsAX_sOB_e&_nc_ht=cdn.fbsbx.com&oh=cde6d7b72717ce84f99121f67aaaeafe&oe=5EFF3DD9\",\"link\":\"https://www.facebook.com/sparkarhub/publish/effect/718785872265319/\",\"avatar\":\"https://scontent.fkhh1-1.fna.fbcdn.net/v/t39.10260-6/100377814_278728133312058_4646597140401881088_n.png?_nc_cat=100&_nc_sid=df6b83&_nc_ohc=CkktEMku38wAX-JQF_2&_nc_ht=scontent.fkhh1-1.fna&oh=dc209308861b606f9665fe05e612598e&oe=5F2205D1\",\"slug\":\"gggggggg5\"}\n",
      "<Response [201]> {\"name\":\"Foodie Me\",\"demo\":\"https://cdn.fbsbx.com/v/t65.23977-21/103962635_699372540628485_8859832994092885397_n.mov?_nc_cat=101&_nc_sid=56eb5b&_nc_ohc=FjTC7vjj-4cAX_hm_SA&_nc_ht=cdn.fbsbx.com&oh=517a0dafb94209eebe9609b6bf2056e2&oe=5EFF25C1\",\"link\":\"https://www.facebook.com/sparkarhub/publish/effect/747659412659313/\",\"avatar\":\"https://scontent.fkhh1-2.fna.fbcdn.net/v/t39.10260-6/103241382_351225779182579_2156258026040227218_n.png?_nc_cat=104&_nc_sid=df6b83&_nc_ohc=7nfn4UMyWzgAX8_xscB&_nc_ht=scontent.fkhh1-2.fna&oh=9ba48e5fc8ad5cfffb7f7e737b245986&oe=5F22E4BF\",\"slug\":\"gggggggg6\"}\n",
      "<Response [201]> {\"name\":\"è�·æ¥­å€¦æ€ ğŸ’¥\",\"demo\":\"https://cdn.fbsbx.com/v/t65.23977-21/10000000_3660752440620620_2808390965609457166_n.mov?_nc_cat=104&_nc_sid=56eb5b&_nc_ohc=D2wjOmGQtS4AX-fZCuV&_nc_ht=cdn.fbsbx.com&oh=a2a5dd1f92f7901027b5430a3656bce8&oe=5EFF53A2\",\"link\":\"https://www.facebook.com/sparkarhub/publish/effect/195826011743493/\",\"avatar\":\"https://scontent.fkhh1-1.fna.fbcdn.net/v/t39.10260-6/104634156_563130361304370_2825665252160222540_n.png?_nc_cat=102&_nc_sid=df6b83&_nc_ohc=GzSTHUwqnb0AX_cIxsY&_nc_ht=scontent.fkhh1-1.fna&oh=ee9984df726817f156cf5d930c699a58&oe=5F22EDB5\",\"slug\":\"gggggggg7\"}\n",
      "<Response [201]> {\"name\":\"In the Water\",\"demo\":\"https://cdn.fbsbx.com/v/t65.23977-21/10000000_252915066014690_8658569606419374874_n.mov?_nc_cat=102&_nc_sid=56eb5b&_nc_ohc=Jg2Sp5DJh1IAX8p9X5I&_nc_ht=cdn.fbsbx.com&oh=edf6c3f74e4e5502ac0393f51fee0fb5&oe=5EFF2031\",\"link\":\"https://www.facebook.com/sparkarhub/publish/effect/736643030468501/\",\"avatar\":\"https://scontent.fkhh1-1.fna.fbcdn.net/v/t39.10260-6/104760673_794677230936458_8463778222832913110_n.png?_nc_cat=105&_nc_sid=df6b83&_nc_ohc=mm0UAl9YFoQAX8HHo8z&_nc_ht=scontent.fkhh1-1.fna&oh=01a31eaf9f52ef2d9e465372530e5d57&oe=5F249FB1\",\"slug\":\"gggggggg8\"}\n",
      "<Response [201]> {\"name\":\"FMA - Armstrong\",\"demo\":\"https://cdn.fbsbx.com/v/t65.23977-21/104527378_258851032037349_601563549000574151_n.mov?_nc_cat=110&_nc_sid=56eb5b&_nc_ohc=37aPyMZW0JMAX90VnD6&_nc_ht=cdn.fbsbx.com&oh=5000678c286d2d65393fefe31995e854&oe=5EFF4FF1\",\"link\":\"https://www.facebook.com/sparkarhub/publish/effect/4306003249439789/\",\"avatar\":\"https://scontent.fkhh1-2.fna.fbcdn.net/v/t39.10260-6/102351666_933547777088205_6823357896547617599_n.png?_nc_cat=108&_nc_sid=df6b83&_nc_ohc=SlCn5K8aB0YAX85Wtm2&_nc_ht=scontent.fkhh1-2.fna&oh=e5b61777001d5216b9525048e198c52b&oe=5F23A898\",\"slug\":\"gggggggg9\"}\n",
      "<Response [201]> {\"name\":\"ç�«ğŸ”¥TOO HOT TO LIVE\",\"demo\":\"https://cdn.fbsbx.com/v/t65.23977-21/104676396_1334755723388246_8067260806543884191_n.mov?_nc_cat=101&_nc_sid=56eb5b&_nc_ohc=vgZ1rJ-5qZAAX_L1kXk&_nc_ht=cdn.fbsbx.com&oh=b79f3b30a675c1b729110b9385096cb7&oe=5EFF5058\",\"link\":\"https://www.facebook.com/sparkarhub/publish/effect/2330327903935544/\",\"avatar\":\"https://scontent.fkhh1-2.fna.fbcdn.net/v/t39.10260-6/103861539_2065274856950796_3504709912310489530_n.png?_nc_cat=110&_nc_sid=df6b83&_nc_ohc=067y27qtzv8AX_MB3uz&_nc_ht=scontent.fkhh1-2.fna&oh=dd5a63598725bbe76f65821a6fdc21e2&oe=5F221795\",\"slug\":\"gggggggg10\"}\n",
      "<Response [201]> {\"name\":\"I'm in Love\",\"demo\":\"https://cdn.fbsbx.com/v/t65.23977-21/10000000_257337878909058_8805387121477864974_n.mov?_nc_cat=106&_nc_sid=56eb5b&_nc_ohc=mFqraF5pqIUAX-fHbz4&_nc_ht=cdn.fbsbx.com&oh=dd68b9fd22fd670eee32bf380ca28e4e&oe=5EFF3E32\",\"link\":\"https://www.facebook.com/sparkarhub/publish/effect/909400639563225/\",\"avatar\":\"https://scontent.fkhh1-2.fna.fbcdn.net/v/t39.10260-6/103487208_751323432278286_6981062313367790192_n.png?_nc_cat=111&_nc_sid=df6b83&_nc_ohc=V7yBm4QhZKUAX87jvVA&_nc_ht=scontent.fkhh1-2.fna&oh=463360f7167a046879b49c4b055ef91b&oe=5F215D95\",\"slug\":\"gggggggg11\"}\n",
      "<Response [201]> {\"name\":\"Focus on Jack\",\"demo\":\"https://cdn.fbsbx.com/v/t65.23977-21/102286368_690067241787178_2495384709169676288_n.mov?_nc_cat=101&_nc_sid=56eb5b&_nc_ohc=FBVOjz01i0oAX_7pnmY&_nc_ht=cdn.fbsbx.com&oh=52bccb73fea4cec7e9910c3e6dfa29fc&oe=5EFF0A81\",\"link\":\"https://www.facebook.com/sparkarhub/publish/effect/2973687246194533/\",\"avatar\":\"https://scontent.fkhh1-1.fna.fbcdn.net/v/t39.10260-6/101788186_2580325202226855_7995291645404774400_n.png?_nc_cat=105&_nc_sid=df6b83&_nc_ohc=eXpSW_UnmFEAX8lgeGe&_nc_ht=scontent.fkhh1-1.fna&oh=022968e43c809c9341b86e97858262ed&oe=5F22660D\",\"slug\":\"gggggggg12\"}\n"
     ]
    }
   ],
   "source": [
    "# post data\n",
    "import requests\n",
    "import random\n",
    "import os\n",
    "url = 'http://127.0.0.1:8000/filters/api/filters/'\n",
    "header = {\n",
    "    'Authorization': os.getenv(\"LOCAL_FILTERS_API_AUTH\"),\n",
    "    'Content-Type': 'application/json',\n",
    "}\n",
    "data = {\n",
    "        \"name\": \"filters11\",\n",
    "        \"demo\": \"https://cdn.fbsbx.com/v/t65.23977-21/105555434_555091311779857_7346894046092697253_n.mov?_nc_cat=105&_nc_sid=56eb5b&_nc_ohc=JhKc4w58bLsAX9cJD72&_nc_ht=cdn.fbsbx.com&oh=911dead88127180b9d8b5ed754038038&oe=5EFEF37F\",\n",
    "        \"link\": \"https://www.instagram.com/ar/736127143610948/\",\n",
    "        \"avatar\": \"https://scontent.fkhh1-2.fna.fbcdn.net/v/t39.10260-6/104930190_3098253853561531_3540716877662011845_n.png?_nc_cat=107&_nc_sid=df6b83&_nc_ohc=wmI7_lLBwUMAX-qbL08&_nc_ht=scontent.fkhh1-2.fna&oh=91487d6f850f72a86d68805ad8388abd&oe=5F21D2EA\",\n",
    "        \"slug\": \"12314454ddd32\"\n",
    "}\n",
    "\n",
    "for effect in effects_list[1:]:\n",
    "    x = requests.post(url, data = effect, timeout=2.50)\n",
    "#     print(x, x.text)\n"
   ]
  },
  {
   "cell_type": "code",
   "execution_count": 151,
   "metadata": {},
   "outputs": [
    {
     "name": "stdout",
     "output_type": "stream",
     "text": [
      "{'name': 'tap colors KIRA', 'link': 'https://www.facebook.com/sparkarhub/publish/effect/254652049172411/', 'demo': 'https://cdn.fbsbx.com/v/t65.23977-21/105307434_697276801052945_4231700842067597498_n.mp4?_nc_cat=101&_nc_sid=56eb5b&_nc_ohc=-1pCRbHkfaAAX_wL7kn&_nc_ht=cdn.fbsbx.com&oh=7d9104029ae4a3c4eacc64eddbc92944&oe=5EFF47BD', 'avatar': 'https://scontent.fkhh1-2.fna.fbcdn.net/v/t39.10260-6/106564183_270873414165544_558766288287531303_n.png?_nc_cat=104&_nc_sid=df6b83&_nc_ohc=ntCawI9syvkAX-ixHiN&_nc_ht=scontent.fkhh1-2.fna&oh=eb02d64e94c88210416ef3a049a259c4&oe=5F21A32E', 'slug': 'tap colors KIRA'}\n"
     ]
    }
   ],
   "source": [
    "print(effect)"
   ]
  },
  {
   "cell_type": "code",
   "execution_count": null,
   "metadata": {},
   "outputs": [],
   "source": []
  }
 ],
 "metadata": {
  "kernelspec": {
   "display_name": "Python 3",
   "language": "python",
   "name": "python3"
  },
  "language_info": {
   "codemirror_mode": {
    "name": "ipython",
    "version": 3
   },
   "file_extension": ".py",
   "mimetype": "text/x-python",
   "name": "python",
   "nbconvert_exporter": "python",
   "pygments_lexer": "ipython3",
   "version": "3.8.1"
  }
 },
 "nbformat": 4,
 "nbformat_minor": 4
}
